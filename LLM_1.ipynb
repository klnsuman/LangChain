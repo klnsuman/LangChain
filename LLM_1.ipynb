{
  "nbformat": 4,
  "nbformat_minor": 0,
  "metadata": {
    "colab": {
      "provenance": [],
      "mount_file_id": "1N_z0J2GHLLqT4B1VdTOKc2IG0jtwb1TA",
      "authorship_tag": "ABX9TyMDUu/ea0+Slt1jtjTy7XqP",
      "include_colab_link": true
    },
    "kernelspec": {
      "name": "python3",
      "display_name": "Python 3"
    },
    "language_info": {
      "name": "python"
    }
  },
  "cells": [
    {
      "cell_type": "markdown",
      "metadata": {
        "id": "view-in-github",
        "colab_type": "text"
      },
      "source": [
        "<a href=\"https://colab.research.google.com/github/klnsuman/LangChain/blob/main/LLM_1.ipynb\" target=\"_parent\"><img src=\"https://colab.research.google.com/assets/colab-badge.svg\" alt=\"Open In Colab\"/></a>"
      ]
    },
    {
      "cell_type": "code",
      "source": [
        "#!pip install python-dotenv\n",
        "#!pip install langchain\n",
        "#!pip install openai"
      ],
      "metadata": {
        "id": "tFRylvGodq3u"
      },
      "execution_count": 3,
      "outputs": []
    },
    {
      "cell_type": "code",
      "source": [
        "from pathlib import Path\n",
        "\n",
        "dotenv_path = Path('/content/drive/MyDrive/Data/.env')"
      ],
      "metadata": {
        "id": "S9Y3wxkFfjFA"
      },
      "execution_count": 10,
      "outputs": []
    },
    {
      "cell_type": "code",
      "execution_count": 11,
      "metadata": {
        "colab": {
          "base_uri": "https://localhost:8080/"
        },
        "id": "eI5X053SdXEJ",
        "outputId": "d6fd81ad-8630-420f-ac68-59c79776fce3"
      },
      "outputs": [
        {
          "output_type": "stream",
          "name": "stdout",
          "text": [
            "\n",
            "\n",
            "1. Biryani: Hyderabad is renowned for its delectable Biryani. It is a must on your menu!\n",
            "\n",
            "2. Haleem: A Hyderabadi delicacy that is thick and rich in flavor, Haleem is made from wheat, lentils and meat and is a popular dish.\n",
            "\n",
            "3. Kebabs: Seekh, Shami and Gilafi Kebabs are popular in Hyderabad. Serve them with mint and tamarind chutney.\n",
            "\n",
            "4. Mirchi Ka Salan: Another Hyderabadi specialty, this dish is made with chillies and a rich peanut-coconut gravy.\n",
            "\n",
            "5. Qubani ka Meetha: This traditional dessert is made of Apricots and is served with ice cream or custard.\n",
            "\n",
            "6. Phirni: A creamy dessert made of ground rice, Phirni is a must in Hyderabadi restaurants.\n",
            "\n",
            "7. Chicken 65: This spicy dish is a favorite among Hyderabadi food lovers.\n",
            "\n",
            "8. Haleem Sandwich: A unique variation of the traditional Haleem, this sandwich is stuffed with minced meat and spices.\n",
            "\n",
            "9. Double Ka Meetha: A dessert made\n"
          ]
        }
      ],
      "source": [
        "from dotenv import load_dotenv\n",
        "import os\n",
        "load_dotenv(dotenv_path)\n",
        "my_id = os.getenv(\"ID\")\n",
        "my_secret_key = os.getenv(\"SECRET_KEY\")\n",
        "os.environ['OPENAI_API_KEY'] = my_secret_key\n",
        "from langchain.llms import OpenAI\n",
        "\n",
        "llm = OpenAI(temperature=0.9)\n",
        "hotelMenu = llm.predict(\"I want to open a restaurant in Hyderabad. Suggest Menu.\")\n",
        "print(hotelMenu)"
      ]
    }
  ]
}