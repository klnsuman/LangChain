{
  "cells": [
    {
      "cell_type": "markdown",
      "metadata": {
        "colab_type": "text",
        "id": "view-in-github"
      },
      "source": [
        "<a href=\"https://colab.research.google.com/github/klnsuman/LangChain/blob/main/LLM_1.ipynb\" target=\"_parent\"><img src=\"https://colab.research.google.com/assets/colab-badge.svg\" alt=\"Open In Colab\"/></a>"
      ]
    },
    {
      "cell_type": "code",
      "execution_count": null,
      "metadata": {
        "id": "tFRylvGodq3u"
      },
      "outputs": [],
      "source": [
        "#!pip install python-dotenv\n",
        "#!pip install langchain\n",
        "#!pip install openai"
      ]
    },
    {
      "cell_type": "markdown",
      "metadata": {},
      "source": [
        "### Sample File Change"
      ]
    },
    {
      "cell_type": "code",
      "execution_count": null,
      "metadata": {
        "id": "S9Y3wxkFfjFA"
      },
      "outputs": [],
      "source": [
        "from pathlib import Path\n",
        "\n",
        "dotenv_path = Path('/content/drive/MyDrive/Data/.env')"
      ]
    },
    {
      "cell_type": "code",
      "execution_count": null,
      "metadata": {
        "colab": {
          "base_uri": "https://localhost:8080/"
        },
        "id": "eI5X053SdXEJ",
        "outputId": "d6fd81ad-8630-420f-ac68-59c79776fce3"
      },
      "outputs": [
        {
          "name": "stdout",
          "output_type": "stream",
          "text": [
            "\n",
            "\n",
            "1. Biryani: Hyderabad is renowned for its delectable Biryani. It is a must on your menu!\n",
            "\n",
            "2. Haleem: A Hyderabadi delicacy that is thick and rich in flavor, Haleem is made from wheat, lentils and meat and is a popular dish.\n",
            "\n",
            "3. Kebabs: Seekh, Shami and Gilafi Kebabs are popular in Hyderabad. Serve them with mint and tamarind chutney.\n",
            "\n",
            "4. Mirchi Ka Salan: Another Hyderabadi specialty, this dish is made with chillies and a rich peanut-coconut gravy.\n",
            "\n",
            "5. Qubani ka Meetha: This traditional dessert is made of Apricots and is served with ice cream or custard.\n",
            "\n",
            "6. Phirni: A creamy dessert made of ground rice, Phirni is a must in Hyderabadi restaurants.\n",
            "\n",
            "7. Chicken 65: This spicy dish is a favorite among Hyderabadi food lovers.\n",
            "\n",
            "8. Haleem Sandwich: A unique variation of the traditional Haleem, this sandwich is stuffed with minced meat and spices.\n",
            "\n",
            "9. Double Ka Meetha: A dessert made\n"
          ]
        }
      ],
      "source": [
        "from dotenv import load_dotenv\n",
        "import os\n",
        "load_dotenv(dotenv_path)\n",
        "my_id = os.getenv(\"ID\")\n",
        "my_secret_key = os.getenv(\"SECRET_KEY\")\n",
        "os.environ['OPENAI_API_KEY'] = my_secret_key\n",
        "from langchain.llms import OpenAI\n",
        "\n",
        "llm = OpenAI(temperature=0.9)\n",
        "hotelMenu = llm.predict(\"I want to open a restaurant in Hyderabad. Suggest Menu.\")\n",
        "print(hotelMenu)"
      ]
    }
  ],
  "metadata": {
    "colab": {
      "authorship_tag": "ABX9TyMDUu/ea0+Slt1jtjTy7XqP",
      "include_colab_link": true,
      "mount_file_id": "1N_z0J2GHLLqT4B1VdTOKc2IG0jtwb1TA",
      "provenance": []
    },
    "kernelspec": {
      "display_name": "Python 3",
      "name": "python3"
    },
    "language_info": {
      "name": "python"
    }
  },
  "nbformat": 4,
  "nbformat_minor": 0
}
