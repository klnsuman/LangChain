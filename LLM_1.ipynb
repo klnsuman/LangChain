{
  "cells": [
    {
      "cell_type": "markdown",
      "metadata": {
        "colab_type": "text",
        "id": "view-in-github"
      },
      "source": [
        "<a href=\"https://colab.research.google.com/github/klnsuman/LangChain/blob/main/LLM_1.ipynb\" target=\"_parent\"><img src=\"https://colab.research.google.com/assets/colab-badge.svg\" alt=\"Open In Colab\"/></a>"
      ]
    },
    {
      "cell_type": "code",
      "execution_count": null,
      "metadata": {
        "id": "tFRylvGodq3u"
      },
      "outputs": [],
      "source": [
        "#!pip install python-dotenv\n",
        "#!pip install langchain\n",
        "#!pip install openai"
      ]
    },
    {
      "cell_type": "markdown",
      "metadata": {},
      "source": [
        "### Sample File Change"
      ]
    },
    {
      "cell_type": "code",
      "execution_count": 3,
      "metadata": {
        "colab": {
          "base_uri": "https://localhost:8080/"
        },
        "id": "eI5X053SdXEJ",
        "outputId": "d6fd81ad-8630-420f-ac68-59c79776fce3"
      },
      "outputs": [
        {
          "name": "stdout",
          "output_type": "stream",
          "text": [
            "\n",
            "\n",
            "1. Hyderabadi Biryani: This iconic dish of Hyderabad is a must-have on your menu. You can offer different varieties like chicken, mutton, and vegetarian options.\n",
            "\n",
            "2. Haleem: Another popular dish of Hyderabad, Haleem is a slow-cooked stew made with meat, lentils, and spices. It's usually served during the month of Ramadan, but you can offer it on your menu throughout the year.\n",
            "\n",
            "3. Kebabs: Hyderabad is known for its delicious kebabs, and you can offer a variety of options like chicken, mutton, and vegetarian kebabs.\n",
            "\n",
            "4. Mirchi ka Salan: This spicy and tangy dish made with green chilies and a peanut-based sauce is a perfect side dish to go with biryani or any other main course.\n",
            "\n",
            "5. Dum ka Chicken: This slow-cooked chicken dish, marinated in yogurt and spices, is another popular dish from Hyderabad that you can add to your menu.\n",
            "\n",
            "6. Qubani ka Meetha: This traditional dessert made with dried apricots and served with ice cream or custard is a must-try for a sweet ending to the meal.\n",
            "\n",
            "7. Double ka Meetha: Another popular dessert from Hyderabad, Double\n"
          ]
        }
      ],
      "source": [
        "\n",
        "import os\n",
        "import sys\n",
        "import getpass\n",
        "os.environ['OPENAI_API_KEY'] = getpass.getpass('OpenAI API Key:')\n",
        "\n",
        "from langchain_openai import OpenAI\n",
        "llm = OpenAI(temperature=0.9)\n",
        "hotelMenu = llm.invoke(\"I want to open a restaurant in Hyderabad. Suggest Menu.\")\n",
        "print(hotelMenu)"
      ]
    }
  ],
  "metadata": {
    "colab": {
      "authorship_tag": "ABX9TyMDUu/ea0+Slt1jtjTy7XqP",
      "include_colab_link": true,
      "mount_file_id": "1N_z0J2GHLLqT4B1VdTOKc2IG0jtwb1TA",
      "provenance": []
    },
    "kernelspec": {
      "display_name": "Python 3",
      "name": "python3"
    },
    "language_info": {
      "codemirror_mode": {
        "name": "ipython",
        "version": 3
      },
      "file_extension": ".py",
      "mimetype": "text/x-python",
      "name": "python",
      "nbconvert_exporter": "python",
      "pygments_lexer": "ipython3",
      "version": "3.11.5"
    }
  },
  "nbformat": 4,
  "nbformat_minor": 0
}
