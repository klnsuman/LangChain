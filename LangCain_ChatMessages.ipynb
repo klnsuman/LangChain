{
  "nbformat": 4,
  "nbformat_minor": 0,
  "metadata": {
    "colab": {
      "provenance": [],
      "authorship_tag": "ABX9TyP+PExn3UjMP6s54sWLh08U",
      "include_colab_link": true
    },
    "kernelspec": {
      "name": "python3",
      "display_name": "Python 3"
    },
    "language_info": {
      "name": "python"
    }
  },
  "cells": [
    {
      "cell_type": "markdown",
      "metadata": {
        "id": "view-in-github",
        "colab_type": "text"
      },
      "source": [
        "<a href=\"https://colab.research.google.com/github/klnsuman/LangChain/blob/main/LangCain_ChatMessages.ipynb\" target=\"_parent\"><img src=\"https://colab.research.google.com/assets/colab-badge.svg\" alt=\"Open In Colab\"/></a>"
      ]
    },
    {
      "cell_type": "code",
      "execution_count": 2,
      "metadata": {
        "colab": {
          "base_uri": "https://localhost:8080/"
        },
        "id": "pTVWVmln9HjN",
        "outputId": "e23a0e47-5014-49fb-aae3-3528e19d515f"
      },
      "outputs": [
        {
          "name": "stdout",
          "output_type": "stream",
          "text": [
            "Mounted at /content/drive\n",
            "OpenAI API Key:··········\n"
          ]
        }
      ],
      "source": [
        "from google.colab import drive\n",
        "drive.mount('/content/drive')\n",
        "import os\n",
        "import sys\n",
        "sys.path.append(\"/content/drive/MyDrive/colab_env/lib/python3.10/site-packages\")\n",
        "import os\n",
        "import getpass\n",
        "\n",
        "os.environ['OPENAI_API_KEY'] = getpass.getpass('OpenAI API Key:')"
      ]
    },
    {
      "cell_type": "code",
      "source": [
        "from langchain.chat_models import ChatOpenAI\n",
        "from langchain.schema import HumanMessage,SystemMessage,AIMessage\n",
        "\n",
        "chat = ChatOpenAI(temperature=0.7)"
      ],
      "metadata": {
        "id": "UAMP3bRq9X7T"
      },
      "execution_count": 5,
      "outputs": []
    },
    {
      "cell_type": "code",
      "source": [
        "chat(\n",
        "    [\n",
        "        SystemMessage(content=\"You are AI Bot that helps me figure out what  indian food to eat \"),\n",
        "        HumanMessage(content=\"I like Non vegetarian\")\n",
        "    ]\n",
        ")"
      ],
      "metadata": {
        "colab": {
          "base_uri": "https://localhost:8080/"
        },
        "id": "5oSB6xVi-FIL",
        "outputId": "76e717a6-551d-400c-9125-3b9817e0e5d2"
      },
      "execution_count": 7,
      "outputs": [
        {
          "output_type": "execute_result",
          "data": {
            "text/plain": [
              "AIMessage(content='Great! Indian cuisine is known for its diverse and delicious non-vegetarian dishes. Here are some popular options you can consider:\\n\\n1. Butter Chicken (Murgh Makhani): A creamy and flavorful chicken dish cooked in a tomato and butter-based gravy.\\n\\n2. Biryani: A fragrant rice dish cooked with meat (chicken, mutton, or fish), spices, and sometimes vegetables.\\n\\n3. Rogan Josh: A Kashmiri dish made with aromatic spices and slow-cooked tender lamb or goat.\\n\\n4. Chicken Tikka Masala: Grilled marinated chicken cooked in a rich and creamy tomato-based sauce.\\n\\n5. Tandoori Chicken: Chicken marinated in yogurt and spices, then grilled or baked in a clay oven (tandoor).\\n\\n6. Fish Curry: A variety of fish cooked in a spicy and tangy gravy with a blend of regional spices.\\n\\n7. Lamb Korma: Tender lamb cooked in a rich and aromatic sauce made with yogurt, cream, and spices.\\n\\n8. Chicken Biryani: Fragrant basmati rice cooked with chicken, spices, and aromatic herbs.\\n\\n9. Chicken Chettinad: A spicy and flavorful chicken curry from the Chettinad region of Tamil Nadu, made with a unique blend of spices.\\n\\n10. Goan Fish Curry: A tangy and coconut-based fish curry from the coastal state of Goa, typically made with pomfret or kingfish.\\n\\nRemember, these are just a few options among many delicious non-vegetarian dishes in Indian cuisine. You can also explore regional specialties like Hyderabadi biryani, Punjabi butter chicken, Bengali fish curry, and more.', additional_kwargs={}, example=False)"
            ]
          },
          "metadata": {},
          "execution_count": 7
        }
      ]
    },
    {
      "cell_type": "code",
      "source": [
        "chat(\n",
        "    [\n",
        "        SystemMessage(content=\"I Like to Visit Places in Hyderabad \"),\n",
        "        HumanMessage(content=\"I like to eat hyderabadi food\"),\n",
        "        AIMessage(content=\"You shouldm try biryani\"),\n",
        "        HumanMessage(content=\"What else should i do\")\n",
        "    ]\n",
        ")"
      ],
      "metadata": {
        "colab": {
          "base_uri": "https://localhost:8080/"
        },
        "id": "trt_IH0Z_zXn",
        "outputId": "4a3fddac-ca90-49aa-eb95-33706fdee588"
      },
      "execution_count": 8,
      "outputs": [
        {
          "output_type": "execute_result",
          "data": {
            "text/plain": [
              "AIMessage(content=\"Apart from trying the famous Hyderabadi biryani, there are several other things you can do in Hyderabad:\\n\\n1. Visit the iconic Charminar: This historic monument is a must-visit in Hyderabad. You can explore the architecture, climb to the top for a panoramic view of the city, and shop for traditional bangles and pearls in the surrounding markets.\\n\\n2. Explore the Golconda Fort: This ancient fort offers a glimpse into Hyderabad's rich history. You can wander through the ruins, discover secret passages, and enjoy the breathtaking views from the top.\\n\\n3. Take a boat ride in Hussain Sagar Lake: Enjoy a serene boat ride in the heart-shaped lake and visit the famous Buddha statue located on a small island in the center. The lake is a popular spot for picnics and evening walks.\\n\\n4. Wander through the Salar Jung Museum: This is one of the largest art museums in the world and houses an impressive collection of artifacts from different civilizations. You can admire art, sculptures, textiles, and rare manuscripts.\\n\\n5. Visit the Ramoji Film City: If you are a Bollywood fan, this is a must-visit. It is one of the largest film studios in the world and offers guided tours, live shows, and a chance to experience the world of filmmaking.\\n\\n6. Shop at Laad Bazaar: Located near Charminar, this bustling market is famous for its traditional bangles, jewelry, and handicrafts. You can also try some local street food and shop for souvenirs.\\n\\n7. Explore the Qutub Shahi Tombs: These magnificent tombs are the final resting place of the Qutub Shahi dynasty rulers. The tombs are known for their stunning architecture, intricate carvings, and peaceful surroundings.\\n\\n8. Indulge in Hyderabadi street food: Apart from biryani, Hyderabad offers a variety of delicious street food. Don't miss trying the famous Hyderabadi Haleem, kebabs, Irani chai, and Osmania biscuits.\\n\\nThese are just a few suggestions, and there are many more things to do and explore in Hyderabad. Enjoy your visit!\", additional_kwargs={}, example=False)"
            ]
          },
          "metadata": {},
          "execution_count": 8
        }
      ]
    },
    {
      "cell_type": "code",
      "source": [],
      "metadata": {
        "id": "_EVEttZtAOju"
      },
      "execution_count": null,
      "outputs": []
    }
  ]
}