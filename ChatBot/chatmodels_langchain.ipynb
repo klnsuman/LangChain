{
  "nbformat": 4,
  "nbformat_minor": 0,
  "metadata": {
    "colab": {
      "provenance": [],
      "mount_file_id": "1bBxN4M-qKcTxMOmGo2gKSWo2fVEe7fbR",
      "authorship_tag": "ABX9TyMlh+M5yXV/unCQFJ/ZbLVP",
      "include_colab_link": true
    },
    "kernelspec": {
      "name": "python3",
      "display_name": "Python 3"
    },
    "language_info": {
      "name": "python"
    }
  },
  "cells": [
    {
      "cell_type": "markdown",
      "metadata": {
        "id": "view-in-github",
        "colab_type": "text"
      },
      "source": [
        "<a href=\"https://colab.research.google.com/github/klnsuman/LangChain/blob/main/chatmodels_langchain.ipynb\" target=\"_parent\"><img src=\"https://colab.research.google.com/assets/colab-badge.svg\" alt=\"Open In Colab\"/></a>"
      ]
    },
    {
      "cell_type": "code",
      "source": [
        "import getpass\n",
        "import os\n",
        "os.environ['OPENAI_API_KEY'] = getpass.getpass('OpenAI API Key:')"
      ],
      "metadata": {
        "colab": {
          "base_uri": "https://localhost:8080/"
        },
        "id": "kZMyQOLPQhvy",
        "outputId": "f535683f-f8ed-4076-dd6c-9e0141d6a6ff"
      },
      "execution_count": 3,
      "outputs": [
        {
          "name": "stdout",
          "output_type": "stream",
          "text": [
            "OpenAI API Key:··········\n"
          ]
        }
      ]
    },
    {
      "cell_type": "code",
      "source": [
        "from google.colab import drive\n",
        "drive.mount('/content/drive')\n",
        "import os\n",
        "import sys\n",
        "sys.path.append(\"/content/drive/MyDrive/colab_env/lib/python3.10/site-packages\")\n"
      ],
      "metadata": {
        "colab": {
          "base_uri": "https://localhost:8080/"
        },
        "id": "Nl19hsllQ-Wl",
        "outputId": "87f43de2-7929-490e-8813-86954afaa005"
      },
      "execution_count": 8,
      "outputs": [
        {
          "output_type": "stream",
          "name": "stdout",
          "text": [
            "Drive already mounted at /content/drive; to attempt to forcibly remount, call drive.mount(\"/content/drive\", force_remount=True).\n"
          ]
        }
      ]
    },
    {
      "cell_type": "code",
      "execution_count": 11,
      "metadata": {
        "colab": {
          "base_uri": "https://localhost:8080/"
        },
        "id": "j8_VsjTTPomg",
        "outputId": "de734426-2721-4475-e98a-a8b65be9ee24"
      },
      "outputs": [
        {
          "output_type": "execute_result",
          "data": {
            "text/plain": [
              "AIMessage(content='Why did the chicken go to Hyderabad tomorrow? \\n\\nBecause it heard there were great cluck-tails and egg-citing adventures waiting there!', additional_kwargs={}, example=False)"
            ]
          },
          "metadata": {},
          "execution_count": 11
        }
      ],
      "source": [
        "from langchain.chat_models import ChatOpenAI\n",
        "from langchain.schema import HumanMessage,SystemMessage,AIMessage\n",
        "llmchat = ChatOpenAI(temperature=0.9)\n",
        "llmchat(\n",
        "  [\n",
        "      SystemMessage(content=\"You are AI Tool , which makes joke of anything\"),\n",
        "      HumanMessage(content=\"Iam going to Hyderabad Tomorrow\")\n",
        "\n",
        "  ]\n",
        ")"
      ]
    }
  ]
}